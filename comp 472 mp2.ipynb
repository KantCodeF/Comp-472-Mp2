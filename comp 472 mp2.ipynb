import numpy as np
#based on gameboard and car letter return x or y
def moveAxis(gameboard,car):
    
    for char in range (len(gameboard)):
        if gameboard[char]==car and 'p1' not in locals():
            p1=char
        elif gameboard[char]==car:  
            p2=char
            break
    if (p1-p2)==-6:
        return 'y'
    if (p1-p2)==-1:
        return 'x'

    
#read text file and return  6x6 array of gameboard and dict of fuel level 
def readfile(filename):
    gameboards=[]
    carFuels=[]
    f = open(filename, "rt")
    count=0
    for x in f:
        gameboard=[]
        carFuel={}
        if x[0]=="#":
            continue
        if len(x)==1:
            continue
        else:
            x=x.strip("\n")
            token=x.split()
            
            for i in range(len(token)):        
                if i==0:
                    count+=1
                    for j in range(36):
                        gameboard.insert(len(gameboard),token[i][j])
                        if token[i][j] not in  carFuel and  token[i][j] !='.':
                            carFuel[token[i][j]]=100
                elif i>=1: 
                    
                    car=token[i][0]
                    fuelLevel=int(token[i][1])
                    carFuel.update({car:fuelLevel})
        gameboard=np.array(gameboard).reshape(6,6)
        gameboards.insert(count-1,gameboard)
        carFuels.insert(count-1,carFuel)        
                
                
           
    f.close()
    return gameboards,carFuels
#adds the valet service to the game
def valetService(gameboard,car):
    if gameboard[17]!=".":
        if((gameboard[17]==car and gameboard[16]==car) or (gameboard[17]==car and gameboard[16]==car and gameboard[15]==car)):
            gameboard[:] = [x if x != car else "." for x in gameboard]
    return gameboard    
    
#makes a list of possible moves
def possiblemoves(gameboard,fuelLevel):
    gameboard=gameboard.flatten().tolist()
    moves={}
    
    for car in fuelLevel.keys():
        axis=moveAxis(gameboard,car)
        carMoves={}   
        if(axis=='x'):       
            left=MoveLeft(gameboard,car)
            right=MoveRight(gameboard,car)       
            if(left!=0 and fuelLevel[car]>left):
                carMoves.update({"left":left})
            if(right!=0 and fuelLevel[car]>right):
                carMoves.update({"right":right})
            
        if(axis=='y'):
            
            up=MoveUp(gameboard,car)
            down=MoveDown(gameboard,car)
            if(up!=0 and fuelLevel[car]>up):
                
                carMoves.update({"up":up})
            if(down!=0 and fuelLevel[car]>down):
                carMoves.update({"down":down})
           
        if(len(carMoves)>0):
            moves.update({car:carMoves})
            
    
    return moves

#return spaces car can move left
def MoveLeft(gameboard,car):
    count=0
    index=gameboard.index(car)
    while(index%6 != 0):
        index-=1
        if(gameboard[index]=="."):
            count+=1
            continue
        else:
            break
    return count


#return spaces car can move right
def MoveRight(gameboard,car):
    count=0
    index=gameboard.index(car)
    while(index%6 != 5):
        index+=1
        if(gameboard[index]=="."):
            count+=1
            continue
        if(gameboard[index]==car):
            continue
        else:
            break
    return count


#return spaces car can move Up
def MoveUp(gameboard,car):
    count=0
    index=gameboard.index(car)-6
    while(index>=0):
        
        if(gameboard[index]=="."):
            count+=1
            index-=6
            continue
        else:
            break
    return count

#return spaces car can move down
def MoveDown(gameboard,car):
    count=0
    index=gameboard.index(car)+6
    
    while(index<=35):
        if(gameboard[index]=="."):
            count+=1
            index+=6
            continue
        if(gameboard[index]==car):
            index+=6
            continue
        else:
            break
    return count
